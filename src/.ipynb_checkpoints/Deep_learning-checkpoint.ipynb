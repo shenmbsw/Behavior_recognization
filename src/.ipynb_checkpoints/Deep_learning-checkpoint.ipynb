{
 "cells": [
  {
   "cell_type": "code",
   "execution_count": 1,
   "metadata": {
    "collapsed": true
   },
   "outputs": [],
   "source": [
    "import tensorflow as tf\n",
    "import numpy as np\n",
    "import small_data_generators as sdg\n",
    "import copy"
   ]
  },
  {
   "cell_type": "code",
   "execution_count": 3,
   "metadata": {
    "collapsed": true
   },
   "outputs": [],
   "source": [
    "FC_SIZE = 1024\n",
    "DTYPE = tf.float32\n",
    "\n",
    "\n",
    "def _weight_variable(name, shape):\n",
    "    return tf.get_variable(name, shape, DTYPE, tf.truncated_normal_initializer(stddev=0.1))\n",
    "\n",
    "\n",
    "def _bias_variable(name, shape):\n",
    "    return tf.get_variable(name, shape, DTYPE, tf.constant_initializer(0.1, dtype=DTYPE))\n",
    "\n",
    "\n",
    "def inference(boxes, num_props,num_classes):\n",
    "    prev_layer = boxes\n",
    "\n",
    "    in_filters = num_props\n",
    "    with tf.variable_scope('conv1') as scope:\n",
    "        out_filters = 16\n",
    "        kernel = _weight_variable('weights', [5, 5, 5, in_filters, out_filters])\n",
    "        conv = tf.nn.conv3d(prev_layer, kernel, [1, 1, 1, 1, 1], padding='SAME')\n",
    "        biases = _bias_variable('biases', [out_filters])\n",
    "        bias = tf.nn.bias_add(conv, biases)\n",
    "        conv1 = tf.nn.relu(bias, name=scope.name)\n",
    "        prev_layer = conv1\n",
    "        in_filters = out_filters\n",
    "\n",
    "    pool1 = tf.nn.max_pool3d(prev_layer, ksize=[1, 3, 3, 3, 1], strides=[1, 2, 2, 2, 1], padding='SAME')\n",
    "    norm1 = tf.layers.batch_normalization(pool1)\n",
    "\n",
    "    prev_layer = norm1\n",
    "\n",
    "    with tf.variable_scope('conv2') as scope:\n",
    "        out_filters = 32\n",
    "        kernel = _weight_variable('weights', [5, 5, 5, in_filters, out_filters])\n",
    "        conv = tf.nn.conv3d(prev_layer, kernel, [1, 1, 1, 1, 1], padding='SAME')\n",
    "        biases = _bias_variable('biases', [out_filters])\n",
    "        bias = tf.nn.bias_add(conv, biases)\n",
    "        conv2 = tf.nn.relu(bias, name=scope.name)\n",
    "\n",
    "        prev_layer = conv2\n",
    "        in_filters = out_filters\n",
    "\n",
    "    # normalize prev_layer here\n",
    "    pool2 = tf.nn.max_pool3d(prev_layer, ksize=[1, 3, 3, 3, 1], strides=[1, 2, 2, 2, 1], padding='SAME')\n",
    "    norm2 = tf.layers.batch_normalization(pool2)\n",
    "        \n",
    "    with tf.variable_scope('conv3_1') as scope:\n",
    "        out_filters = 64\n",
    "        kernel = _weight_variable('weights', [5, 5, 5, in_filters, out_filters])\n",
    "        conv = tf.nn.conv3d(prev_layer, kernel, [1, 1, 1, 1, 1], padding='SAME')\n",
    "        biases = _bias_variable('biases', [out_filters])\n",
    "        bias = tf.nn.bias_add(conv, biases)\n",
    "        prev_layer = tf.nn.relu(bias, name=scope.name)\n",
    "        in_filters = out_filters\n",
    "\n",
    "    with tf.variable_scope('conv3_2') as scope:\n",
    "        out_filters = 64\n",
    "        kernel = _weight_variable('weights', [5, 5, 5, in_filters, out_filters])\n",
    "        conv = tf.nn.conv3d(prev_layer, kernel, [1, 1, 1, 1, 1], padding='SAME')\n",
    "        biases = _bias_variable('biases', [out_filters])\n",
    "        bias = tf.nn.bias_add(conv, biases)\n",
    "        prev_layer = tf.nn.relu(bias, name=scope.name)\n",
    "        in_filters = out_filters\n",
    "\n",
    "    with tf.variable_scope('conv3_3') as scope:\n",
    "        out_filters = 32\n",
    "        kernel = _weight_variable('weights', [5, 5, 5, in_filters, out_filters])\n",
    "        conv = tf.nn.conv3d(prev_layer, kernel, [1, 1, 1, 1, 1], padding='SAME')\n",
    "        biases = _bias_variable('biases', [out_filters])\n",
    "        bias = tf.nn.bias_add(conv, biases)\n",
    "        prev_layer = tf.nn.relu(bias, name=scope.name)\n",
    "        in_filters = out_filters\n",
    "\n",
    "    # normalize prev_layer here\n",
    "    prev_layer = tf.layers.batch_normalization(prev_layer)\n",
    "    prev_layer = tf.nn.max_pool3d(prev_layer, ksize=[1, 3, 3, 3, 1], strides=[1, 2, 2, 2, 1], padding='SAME')\n",
    "\n",
    "\n",
    "    with tf.variable_scope('local3') as scope:\n",
    "        dim = np.prod(prev_layer.get_shape().as_list()[1:])\n",
    "        prev_layer_flat = tf.reshape(prev_layer, [-1, dim])\n",
    "        weights = _weight_variable('weights', [dim, FC_SIZE])\n",
    "        biases = _bias_variable('biases', [FC_SIZE])\n",
    "        local3 = tf.nn.relu(tf.matmul(prev_layer_flat, weights) + biases, name=scope.name)\n",
    "\n",
    "    prev_layer = local3\n",
    "\n",
    "    with tf.variable_scope('local4') as scope:\n",
    "        dim = np.prod(prev_layer.get_shape().as_list()[1:])\n",
    "        prev_layer_flat = tf.reshape(prev_layer, [-1, dim])\n",
    "        weights = _weight_variable('weights', [dim, FC_SIZE])\n",
    "        biases = _bias_variable('biases', [FC_SIZE])\n",
    "        local4 = tf.nn.relu(tf.matmul(prev_layer_flat, weights) + biases, name=scope.name)\n",
    "\n",
    "    prev_layer = local4\n",
    "\n",
    "    with tf.variable_scope('softmax_linear') as scope:\n",
    "        dim = np.prod(prev_layer.get_shape().as_list()[1:])\n",
    "        weights = _weight_variable('weights', [dim, num_classes])\n",
    "        biases = _bias_variable('biases', [num_classes])\n",
    "        softmax_linear = tf.add(tf.matmul(prev_layer, weights), biases, name=scope.name)\n",
    "\n",
    "    return softmax_linear\n",
    "\n",
    "\n",
    "def loss_function(logits, labels):\n",
    "    cross_entropy = tf.nn.sigmoid_cross_entropy_with_logits(labels=tf.cast(labels, tf.float32),logits=logits)\n",
    "    return tf.reduce_mean(cross_entropy, name='xentropy_mean')"
   ]
  },
  {
   "cell_type": "code",
   "execution_count": 13,
   "metadata": {
    "collapsed": true
   },
   "outputs": [],
   "source": [
    "def apply_classification_loss_rnn(model_function):\n",
    "    with tf.Graph().as_default() as g:\n",
    "        num_channels = 4\n",
    "        frame_depth = 16\n",
    "        num_labels = 7\n",
    "        with tf.device(\"/cpu:0\"):\n",
    "            trainer = tf.train.AdamOptimizer()\n",
    "            x_ = tf.placeholder(tf.float32, [None,480, 720, frame_depth,1])\n",
    "            y_ = tf.placeholder(tf.int32, [None,num_labels])\n",
    "            y_logits = model_function(x_,1,num_labels)\n",
    "            loss = loss_function(y_logits,y_)\n",
    "            cross_entropy_loss = tf.reduce_mean(loss)\n",
    "            train_op = trainer.minimize(cross_entropy_loss)\n",
    "            y_prob = tf.sigmoid(y_logits)\n",
    "            y_pred = tf.cast(tf.round(y_prob), tf.int32)\n",
    "            correct_prediction = tf.equal(y_pred, y_)\n",
    "            accuracy = tf.cast(correct_prediction, tf.float32)\n",
    "    model_dict = {'graph': g, 'inputs': [x_, y_], 'train_op': train_op,\n",
    "                  'pred':y_pred,'prob':y_prob,\n",
    "                  'accuracy': accuracy, 'loss': cross_entropy_loss}\n",
    "    return model_dict"
   ]
  },
  {
   "cell_type": "code",
   "execution_count": 14,
   "metadata": {},
   "outputs": [
    {
     "data": {
      "text/plain": [
       "{'accuracy': <tf.Tensor 'Cast_2:0' shape=(?, 7) dtype=float32>,\n",
       " 'graph': <tensorflow.python.framework.ops.Graph at 0x7f727f52b278>,\n",
       " 'inputs': [<tf.Tensor 'Placeholder:0' shape=(?, 480, 720, 16, 1) dtype=float32>,\n",
       "  <tf.Tensor 'Placeholder_1:0' shape=(?, 7) dtype=int32>],\n",
       " 'loss': <tf.Tensor 'Mean:0' shape=() dtype=float32>,\n",
       " 'pred': <tf.Tensor 'Cast_1:0' shape=(?, 7) dtype=int32>,\n",
       " 'prob': <tf.Tensor 'Sigmoid:0' shape=(?, 7) dtype=float32>,\n",
       " 'train_op': <tf.Operation 'Adam' type=NoOp>}"
      ]
     },
     "execution_count": 14,
     "metadata": {},
     "output_type": "execute_result"
    }
   ],
   "source": [
    "apply_classification_loss_rnn(inference)"
   ]
  },
  {
   "cell_type": "code",
   "execution_count": 10,
   "metadata": {
    "collapsed": true
   },
   "outputs": [],
   "source": [
    "def train_model(model_dict, dataset_generators, epoch_n):\n",
    "    with model_dict['graph'].as_default(), tf.Session() as sess:\n",
    "        sess.run(tf.variables_initializer(global_variables()))\n",
    "        for epoch_i in range(epoch_n):\n",
    "            train_collect = []\n",
    "            for iter_i, data_batch in enumerate(dataset_generators['train']):\n",
    "                train_feed_dict = dict(zip(model_dict['inputs'], data_batch))\n",
    "                train_to_compute = [model_dict['train_op'],model_dict['loss'],model_dict['accuracy']]\n",
    "                sess.run(train_to_compute, feed_dict=train_feed_dict)\n",
    "                train_collect.append(train_to_compute[1:])"
   ]
  },
  {
   "cell_type": "code",
   "execution_count": 16,
   "metadata": {},
   "outputs": [
    {
     "name": "stdout",
     "output_type": "stream",
     "text": [
      "['array/X_seq_1.npy', 'array/X_seq_2.npy', 'array/X_seq_3.npy', 'array/X_seq_4.npy', 'array/X_seq_5.npy', 'array/X_seq_6.npy', 'array/X_seq_7.npy', 'array/X_seq_8.npy', 'array/X_seq_9.npy', 'array/X_seq_10.npy']\n",
      "['array/Y_seq_1.npy', 'array/Y_seq_2.npy', 'array/Y_seq_3.npy', 'array/Y_seq_4.npy', 'array/Y_seq_5.npy', 'array/Y_seq_6.npy', 'array/Y_seq_7.npy', 'array/Y_seq_8.npy', 'array/Y_seq_9.npy', 'array/Y_seq_10.npy']\n"
     ]
    }
   ],
   "source": [
    "data_filelist = []\n",
    "label_filelist = []\n",
    "\n",
    "for i in range(10):\n",
    "    data_filelist.append('array/X_seq_%d.npy'%(i+1))\n",
    "    label_filelist.append('array/Y_seq_%d.npy'%(i+1))\n",
    "print(data_filelist)\n",
    "print(label_filelist)\n",
    "    \n",
    "    \n",
    "\n",
    "dataset_generators = {\n",
    "        'train': sdg.dataset_iterator_fbf(16,data_filelist, label_filelist,10),\n",
    "        'test':  sdg.dataset_iterator_fbf(16,data_filelist, label_filelist,10),\n",
    "    }\n",
    "\n",
    "model_dict = apply_classification_loss_rnn(inference)\n",
    "#train_model(model_dict, dataset_generators, epoch_n = 2)"
   ]
  }
 ],
 "metadata": {
  "kernelspec": {
   "display_name": "Python 3",
   "language": "python",
   "name": "python3"
  },
  "language_info": {
   "codemirror_mode": {
    "name": "ipython",
    "version": 3
   },
   "file_extension": ".py",
   "mimetype": "text/x-python",
   "name": "python",
   "nbconvert_exporter": "python",
   "pygments_lexer": "ipython3",
   "version": "3.6.3"
  }
 },
 "nbformat": 4,
 "nbformat_minor": 2
}
