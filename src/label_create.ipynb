{
 "cells": [
  {
   "cell_type": "code",
   "execution_count": 66,
   "metadata": {},
   "outputs": [],
   "source": [
    "import pandas as pd\n",
    "import numpy as np\n",
    "import imageio\n",
    "\n",
    "W = 720\n",
    "H = 480\n",
    "work_dir = '/home/shen/BU_learn/EC720/Final_project/'\n",
    "label_excel_dir = work_dir + 'raw_data/ut-interaction_labels_110912.xls'\n",
    "video_dir = []\n",
    "for i in range(10):\n",
    "    video_dir.append(work_dir + 'set_1/seq%d.avi'%(i+1))"
   ]
  },
  {
   "cell_type": "code",
   "execution_count": 52,
   "metadata": {
    "collapsed": true
   },
   "outputs": [],
   "source": [
    "fn = np.zeros(10)\n",
    "for i in range(10):\n",
    "    vid = imageio.get_reader(video_dir[i],  'ffmpeg')\n",
    "    fn[i] = vid.get_length()"
   ]
  },
  {
   "cell_type": "code",
   "execution_count": 48,
   "metadata": {},
   "outputs": [
    {
     "data": {
      "text/html": [
       "<div>\n",
       "<style>\n",
       "    .dataframe thead tr:only-child th {\n",
       "        text-align: right;\n",
       "    }\n",
       "\n",
       "    .dataframe thead th {\n",
       "        text-align: left;\n",
       "    }\n",
       "\n",
       "    .dataframe tbody tr th {\n",
       "        vertical-align: top;\n",
       "    }\n",
       "</style>\n",
       "<table border=\"1\" class=\"dataframe\">\n",
       "  <thead>\n",
       "    <tr style=\"text-align: right;\">\n",
       "      <th></th>\n",
       "      <th>Set</th>\n",
       "      <th>sequence #</th>\n",
       "      <th>Activity Class ID</th>\n",
       "      <th>Starting Frame #</th>\n",
       "      <th>Ending Frame #</th>\n",
       "      <th>X-Cord</th>\n",
       "      <th>Y-Cord</th>\n",
       "      <th>X-Cord.1</th>\n",
       "      <th>Y-Cord.1</th>\n",
       "      <th>Main actor (left=0, right=1)</th>\n",
       "    </tr>\n",
       "  </thead>\n",
       "  <tbody>\n",
       "    <tr>\n",
       "      <th>0</th>\n",
       "      <td>1.0</td>\n",
       "      <td>seq1</td>\n",
       "      <td>4.0</td>\n",
       "      <td>762.0</td>\n",
       "      <td>841.0</td>\n",
       "      <td>220.0</td>\n",
       "      <td>113.0</td>\n",
       "      <td>620.0</td>\n",
       "      <td>410.0</td>\n",
       "      <td>1.0</td>\n",
       "    </tr>\n",
       "    <tr>\n",
       "      <th>1</th>\n",
       "      <td>1.0</td>\n",
       "      <td>seq1</td>\n",
       "      <td>2.0</td>\n",
       "      <td>919.0</td>\n",
       "      <td>1008.0</td>\n",
       "      <td>185.0</td>\n",
       "      <td>90.0</td>\n",
       "      <td>673.0</td>\n",
       "      <td>423.0</td>\n",
       "      <td>1.0</td>\n",
       "    </tr>\n",
       "    <tr>\n",
       "      <th>2</th>\n",
       "      <td>1.0</td>\n",
       "      <td>seq1</td>\n",
       "      <td>1.0</td>\n",
       "      <td>1064.0</td>\n",
       "      <td>1207.0</td>\n",
       "      <td>225.0</td>\n",
       "      <td>105.0</td>\n",
       "      <td>655.0</td>\n",
       "      <td>420.0</td>\n",
       "      <td>-1.0</td>\n",
       "    </tr>\n",
       "    <tr>\n",
       "      <th>3</th>\n",
       "      <td>1.0</td>\n",
       "      <td>seq1</td>\n",
       "      <td>3.0</td>\n",
       "      <td>1311.0</td>\n",
       "      <td>1408.0</td>\n",
       "      <td>210.0</td>\n",
       "      <td>122.0</td>\n",
       "      <td>433.0</td>\n",
       "      <td>422.0</td>\n",
       "      <td>0.0</td>\n",
       "    </tr>\n",
       "    <tr>\n",
       "      <th>4</th>\n",
       "      <td>1.0</td>\n",
       "      <td>seq1</td>\n",
       "      <td>0.0</td>\n",
       "      <td>1408.0</td>\n",
       "      <td>1562.0</td>\n",
       "      <td>225.0</td>\n",
       "      <td>110.0</td>\n",
       "      <td>655.0</td>\n",
       "      <td>423.0</td>\n",
       "      <td>-1.0</td>\n",
       "    </tr>\n",
       "    <tr>\n",
       "      <th>5</th>\n",
       "      <td>1.0</td>\n",
       "      <td>seq1</td>\n",
       "      <td>5.0</td>\n",
       "      <td>1593.0</td>\n",
       "      <td>1675.0</td>\n",
       "      <td>200.0</td>\n",
       "      <td>110.0</td>\n",
       "      <td>640.0</td>\n",
       "      <td>410.0</td>\n",
       "      <td>1.0</td>\n",
       "    </tr>\n",
       "  </tbody>\n",
       "</table>\n",
       "</div>"
      ],
      "text/plain": [
       "   Set sequence #  Activity Class ID  Starting Frame #  Ending Frame #  \\\n",
       "0  1.0       seq1                4.0             762.0           841.0   \n",
       "1  1.0       seq1                2.0             919.0          1008.0   \n",
       "2  1.0       seq1                1.0            1064.0          1207.0   \n",
       "3  1.0       seq1                3.0            1311.0          1408.0   \n",
       "4  1.0       seq1                0.0            1408.0          1562.0   \n",
       "5  1.0       seq1                5.0            1593.0          1675.0   \n",
       "\n",
       "   X-Cord  Y-Cord  X-Cord.1  Y-Cord.1  Main actor (left=0, right=1)  \n",
       "0   220.0   113.0     620.0     410.0                           1.0  \n",
       "1   185.0    90.0     673.0     423.0                           1.0  \n",
       "2   225.0   105.0     655.0     420.0                          -1.0  \n",
       "3   210.0   122.0     433.0     422.0                           0.0  \n",
       "4   225.0   110.0     655.0     423.0                          -1.0  \n",
       "5   200.0   110.0     640.0     410.0                           1.0  "
      ]
     },
     "execution_count": 48,
     "metadata": {},
     "output_type": "execute_result"
    }
   ],
   "source": [
    "df = pd.read_excel(label_excel_dir,header=1)\n",
    "df = df.dropna(subset=['Main actor (left=0, right=1)'])\n",
    "sf = df[df['sequence #'] == 'seq%d'%1]\n",
    "sf"
   ]
  },
  {
   "cell_type": "code",
   "execution_count": 65,
   "metadata": {
    "scrolled": true
   },
   "outputs": [
    {
     "name": "stdout",
     "output_type": "stream",
     "text": [
      "label_array lenth of seq_1 is: 2031\n",
      "label_array lenth of seq_2 is: 1535\n",
      "label_array lenth of seq_3 is: 2096\n",
      "label_array lenth of seq_4 is: 1242\n",
      "label_array lenth of seq_5 is: 1816\n",
      "label_array lenth of seq_6 is: 1458\n",
      "label_array lenth of seq_7 is: 2168\n",
      "label_array lenth of seq_8 is: 2378\n",
      "label_array lenth of seq_9 is: 4013\n",
      "label_array lenth of seq_10 is: 2168\n"
     ]
    }
   ],
   "source": [
    "for i in range(10):\n",
    "    sf = df[df['sequence #'] == 'seq%d'%(i+1)]\n",
    "    ground_truth = np.ones(int(fn[i]))\n",
    "    ground_truth = ground_truth * 6\n",
    "    for n, row in sf.iterrows():\n",
    "        start = int(row['Starting Frame #'])\n",
    "        end = int(row['Ending Frame #'])\n",
    "        cid = row['Activity Class ID']\n",
    "        ground_truth[start:end] = cid\n",
    "    print('label_array lenth of seq_%d is: %d'%(i+1,ground_truth.shape[0]))\n",
    "    np.save('array/Y_seq_%d.npy'%(i+1),ground_truth)"
   ]
  }
 ],
 "metadata": {
  "kernelspec": {
   "display_name": "Python 3",
   "language": "python",
   "name": "python3"
  },
  "language_info": {
   "codemirror_mode": {
    "name": "ipython",
    "version": 3
   },
   "file_extension": ".py",
   "mimetype": "text/x-python",
   "name": "python",
   "nbconvert_exporter": "python",
   "pygments_lexer": "ipython3",
   "version": "3.6.3"
  }
 },
 "nbformat": 4,
 "nbformat_minor": 2
}
