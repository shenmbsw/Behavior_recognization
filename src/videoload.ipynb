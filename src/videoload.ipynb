{
 "cells": [
  {
   "cell_type": "code",
   "execution_count": null,
   "metadata": {
    "collapsed": true,
    "scrolled": true
   },
   "outputs": [],
   "source": [
    "import imageio\n",
    "from scipy.misc import imread, imsave\n",
    "import numpy as np\n",
    "import os\n",
    "from matplotlib import pyplot as plt\n",
    "from skimage import transform,color\n",
    "\n",
    "rbg2gray = lambda frame: 255*(frame[:,:,0] * 299/1000 + frame[:,:,1]  * 587/1000 + frame[:,:,2]  * 114/1000)"
   ]
  },
  {
   "cell_type": "code",
   "execution_count": null,
   "metadata": {},
   "outputs": [],
   "source": [
    "work_dir = '/home/shen/BU_learn/EC720/Final_project/'\n",
    "video_folder = ['segmented_set1/']\n",
    "W = 96\n",
    "H = 96\n",
    "\n",
    "a = 0\n",
    "n = 0\n",
    "\n",
    "for f in video_folder:\n",
    "    folder = os.path.join(work_dir,f)\n",
    "    video_list = os.listdir(folder)\n",
    "    for j in video_list:\n",
    "        load_video = os.path.join(folder,j)\n",
    "        video_container = imageio.get_reader(load_video,'ffmpeg')\n",
    "        frame_lenth = video_container.get_length()\n",
    "        print(frame_lenth)\n",
    "        a+=frame_lenth\n",
    "        n+=1\n",
    "        \n",
    "print(a/n)"
   ]
  },
  {
   "cell_type": "code",
   "execution_count": null,
   "metadata": {
    "scrolled": true
   },
   "outputs": [],
   "source": [
    "work_dir = '/home/shen/BU_learn/EC720/Final_project/'\n",
    "i = 10\n",
    "video_dir = work_dir + 'set_1/seq%d.avi'%i\n",
    "show_vid = imageio.get_reader(video_dir,  'ffmpeg')\n",
    "a = show_vid.get_data(20)\n",
    "a = rbg2gray(a)\n",
    "print(a.shape)\n",
    "\n",
    "# Create Afine transform\n",
    "afine_tf = transform.AffineTransform(rotation=-0.2)\n",
    "# Apply transform to image data\n",
    "modified = transform.warp(a, inverse_map=afine_tf)\n",
    "\n",
    "plt.imshow(modified,'gray')\n",
    "plt.show()\n",
    "corp = modified[1:200,1:200]\n",
    "plt.imshow(corp,'gray')\n",
    "plt.show()"
   ]
  },
  {
   "cell_type": "code",
   "execution_count": null,
   "metadata": {},
   "outputs": [],
   "source": [
    "work_dir = '/home/shen/BU_learn/EC720/Final_project/'\n",
    "i = 10\n",
    "video_dir = work_dir + 'set_1/seq%d.avi'%i\n",
    "show_vid = imageio.get_reader(video_dir,  'ffmpeg')\n",
    "a = show_vid.get_data(20)\n",
    "corp = a[1:200,1:200,:]\n",
    "plt.imshow(corp,'gray')\n",
    "plt.show()"
   ]
  },
  {
   "cell_type": "code",
   "execution_count": null,
   "metadata": {
    "collapsed": true
   },
   "outputs": [],
   "source": [
    "for f in video_folder:\n",
    "    folder = os.path.join(work_dir,f)\n",
    "    video_list = []\n",
    "    img_list = []\n",
    "    for i in os.listdir(folder):\n",
    "        if i[-3:] == 'jpg':\n",
    "            img_list.append(i)\n",
    "        elif i[-3:] == 'avi':\n",
    "            video_list.append(i)"
   ]
  },
  {
   "cell_type": "code",
   "execution_count": null,
   "metadata": {},
   "outputs": [],
   "source": [
    "work_dir = '/home/shen/BU_learn/EC720/Final_project/'\n",
    "video_folder = ['segmented_set1/']\n",
    "W = 96\n",
    "H = 96\n",
    "\n",
    "for f in video_folder:\n",
    "    folder = os.path.join(work_dir,f)\n",
    "    video_list = os.listdir(folder)\n",
    "    for j in video_list:\n",
    "        load_video = os.path.join(folder,j)\n",
    "        video_container = imageio.get_reader(load_video,'ffmpeg')\n",
    "        frame_lenth = video_container.get_length()\n",
    "        video_array = np.zeros([H,W,frame_lenth],dtype = 'uint8')\n",
    "        print(frame_lenth)\n",
    "        for k in range(frame_lenth-3):\n",
    "            j_frame = video_container.get_data(k)\n",
    "            j_frame = transform.resize(j_frame, (H,W),mode = 'constant')\n",
    "            j_frame = rbg2gray(j_frame)\n",
    "            print('%s_%d.jpg'%(j[:-4],k))\n",
    "            imsave('/home/shen/BU_learn/EC720/Final_project/data_ori/data2/all/5/%s_%d.jpg'%(j[:-4],k),j_frame)"
   ]
  },
  {
   "cell_type": "code",
   "execution_count": null,
   "metadata": {
    "collapsed": true
   },
   "outputs": [],
   "source": [
    "from matplotlib import pyplot as plt\n",
    "k = np.load('array_seg/0_11_4.npy')\n",
    "\n",
    "k = transform.resize(k, (96,96),mode = 'constant')\n",
    "k = k[:,:,1]\n",
    "plt.imsave(fname='a.png',arr=k,cmap='gray')"
   ]
  }
 ],
 "metadata": {
  "kernelspec": {
   "display_name": "Python 3",
   "language": "python",
   "name": "python3"
  },
  "language_info": {
   "codemirror_mode": {
    "name": "ipython",
    "version": 3
   },
   "file_extension": ".py",
   "mimetype": "text/x-python",
   "name": "python",
   "nbconvert_exporter": "python",
   "pygments_lexer": "ipython3",
   "version": "3.6.3"
  }
 },
 "nbformat": 4,
 "nbformat_minor": 2
}
